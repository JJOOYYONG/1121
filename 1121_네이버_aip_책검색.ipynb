{
 "cells": [
  {
   "cell_type": "code",
   "execution_count": 1,
   "metadata": {},
   "outputs": [],
   "source": [
    "import urllib.request\n",
    "import json\n",
    "\n",
    "client_id=\"laY0mYEn8icPJN6dkE86\"\n",
    "client_secret=\"5aci8yN00Z\""
   ]
  },
  {
   "cell_type": "code",
   "execution_count": 7,
   "metadata": {},
   "outputs": [
    {
     "name": "stdout",
     "output_type": "stream",
     "text": [
      "질의:고구려1\n",
      "제목:길 비켜라 <b>고구려</b>가 나가신다: 광개토대왕(역사 공부가 되는 위인전 <b>1</b>)\n",
      "설명:광개토대왕과 <b>고구려</b>에 대한 이해를 돕는 수십 컷 유물과 유적의 컬러사진이 풍부한 정보와 함께 실려 있습니다. 생생한 사진 자료를 바탕으로 <b>고구려</b> 최고 전성기를 구가한 왕 광개토 대왕의 이야기를 만나 보세요. 역사박사 첫걸음, 알토란 역사지식, <b>고구려</b>사 이색탐구, 역사논술 등 책 속 부록을 통해 인물이... \n",
      "url:http://book.naver.com/bookdb/book_detail.php?bid=169353\n",
      "========\n",
      "제목:<b>고구려</b>시대 보물찾기 <b>1</b>~2 세트 (전2권)\n",
      "설명:무예와 전쟁의 나라 <b>고구려</b>&#x0D;강인한 기상과 다채로운 문화의 향기를 만나다! &#x0D;&#x0D;<b>고구려</b>는 백제, 신라와 함께 삼국 시대를 빛냈던 우리나라의 고대 국가입니다. 부여에서 빠져나온 주몽이 압록강 지류에 건국한 <b>고구려</b>는 주변 국가들을 통합하여 세력을 키웠고 이후, 강력한 군사력을 바탕으로 한 정복... \n",
      "url:http://book.naver.com/bookdb/book_detail.php?bid=9609164\n",
      "========\n",
      "제목:[세트] <b>고구려 1</b> + 고구려 2 (도망자 을불)\n",
      "설명:<b>고구려</b> 역사 중 가장 극적인 시대로 손꼽히는 미천왕 때부터 고국원왕, 소수림왕, 고국양왕, 광개토대왕까지 다섯 왕의 이야기를 그린다.\n",
      "\n",
      "<b>1</b>~3권은 미천왕의 일대기를 담았다. 왕의 손자로 태어났으나, 도망자의 신분으로 갖은 고생을 하다 왕위에 올랐던 제15대 왕 미천왕. 왕이 되어서는 대외정복활동에 힘써... \n",
      "url:http://book.naver.com/bookdb/book_detail.php?bid=7259593\n",
      "========\n"
     ]
    }
   ],
   "source": [
    "def searchbook(title):\n",
    "    \n",
    "    url= \"https://openapi.naver.com/v1/search/book.json\"\n",
    "    option=\"&display=3&sort=count\"\n",
    "    query=\"?query=\"+urllib.parse.quote(title)\n",
    "    url_query=url+query+option\n",
    "    \n",
    "    request = urllib.request.Request(url_query)\n",
    "    request.add_header(\"X-Naver-Client-Id\", client_id)\n",
    "    request.add_header(\"X-Naver-Client-Secret\", client_secret)\n",
    "    \n",
    "    response=urllib.request.urlopen(request)\n",
    "    rescode=response.getcode()\n",
    "    if(rescode==200):\n",
    "        return response.read().decode('utf-8')\n",
    "    else:\n",
    "        return None\n",
    "    \n",
    "def showitem(item):\n",
    "    print(\"제목:\"+item['title'])\n",
    "    print(\"설명:\"+item['description'])\n",
    "    print(\"url:\"+item['link'])\n",
    "    print(\"========\")\n",
    "\n",
    "def main():\n",
    "    res=searchbook(input(\"질의:\"))\n",
    "    if(res==None):\n",
    "        print(\"검색 실패!!!\")\n",
    "        exit()\n",
    "   \n",
    "    jres=json.loads(res)\n",
    "    if(jres==None):\n",
    "        print(\"json.load 실패!!\")\n",
    "        exit()\n",
    "    \n",
    "    for post in jres['items']:\n",
    "        showitem(post)\n",
    "\n",
    "if __name__=='__main__':\n",
    "    main()"
   ]
  }
 ],
 "metadata": {
  "kernelspec": {
   "display_name": "Python 3",
   "language": "python",
   "name": "python3"
  },
  "language_info": {
   "codemirror_mode": {
    "name": "ipython",
    "version": 3
   },
   "file_extension": ".py",
   "mimetype": "text/x-python",
   "name": "python",
   "nbconvert_exporter": "python",
   "pygments_lexer": "ipython3",
   "version": "3.7.4"
  }
 },
 "nbformat": 4,
 "nbformat_minor": 2
}
